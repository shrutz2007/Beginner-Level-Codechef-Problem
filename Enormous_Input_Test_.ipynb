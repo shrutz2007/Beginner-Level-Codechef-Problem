{
  "nbformat": 4,
  "nbformat_minor": 0,
  "metadata": {
    "colab": {
      "name": "Enormous Input Test .ipynb",
      "provenance": []
    },
    "kernelspec": {
      "name": "python3",
      "display_name": "Python 3"
    },
    "language_info": {
      "name": "python"
    }
  },
  "cells": [
    {
      "cell_type": "code",
      "metadata": {
        "id": "MhcpjFl27AGv",
        "colab": {
          "base_uri": "https://localhost:8080/"
        },
        "outputId": "49eeeae3-29f1-4b4d-c79d-cdf839e9ec3f"
      },
      "source": [
        "(n, k) = map(int, input().split(' '))\n",
        "\n",
        "ans = 0\n",
        "9\n",
        "for i in range(n):\n",
        "\tx = int(input())\n",
        "\tif x % k == 0:\n",
        "\t\tans += 1\n",
        "\n",
        "print(ans)\n",
        "        \n",
        "        "
      ],
      "execution_count": 2,
      "outputs": [
        {
          "output_type": "stream",
          "text": [
            "7 3\n",
            "1\n",
            "51\n",
            "966369\n",
            "7\n",
            "9\n",
            "999996\n",
            "11\n",
            "4\n"
          ],
          "name": "stdout"
        }
      ]
    }
  ]
}