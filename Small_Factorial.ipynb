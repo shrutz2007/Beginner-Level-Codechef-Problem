{
  "nbformat": 4,
  "nbformat_minor": 0,
  "metadata": {
    "colab": {
      "name": "Small Factorial.ipynb",
      "provenance": []
    },
    "kernelspec": {
      "name": "python3",
      "display_name": "Python 3"
    },
    "language_info": {
      "name": "python"
    }
  },
  "cells": [
    {
      "cell_type": "code",
      "metadata": {
        "colab": {
          "base_uri": "https://localhost:8080/"
        },
        "id": "D7GNkdngoe8W",
        "outputId": "fe9503b6-6952-41d9-8994-d9f62c45b0b6"
      },
      "source": [
        "t=int(input())\n",
        "def fact(n):\n",
        "    if n==1:\n",
        "        return 1\n",
        "    else: \n",
        "        return n*fact(n-1)\n",
        "for i in range(t):\n",
        "    n=int(input())\n",
        "    print(fact(n))"
      ],
      "execution_count": 3,
      "outputs": [
        {
          "output_type": "stream",
          "text": [
            "4\n",
            "1\n",
            "1\n",
            "2\n",
            "2\n",
            "5\n",
            "120\n",
            "3\n",
            "6\n"
          ],
          "name": "stdout"
        }
      ]
    }
  ]
}