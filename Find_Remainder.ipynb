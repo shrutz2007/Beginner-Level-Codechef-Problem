{
  "nbformat": 4,
  "nbformat_minor": 0,
  "metadata": {
    "colab": {
      "name": "Find Remainder.ipynb",
      "provenance": []
    },
    "kernelspec": {
      "name": "python3",
      "display_name": "Python 3"
    },
    "language_info": {
      "name": "python"
    }
  },
  "cells": [
    {
      "cell_type": "code",
      "metadata": {
        "colab": {
          "base_uri": "https://localhost:8080/",
          "height": 0
        },
        "id": "D7GNkdngoe8W",
        "outputId": "f7b27303-6efa-4f4d-9669-2a140123e23b"
      },
      "source": [
        "t=int(input())\n",
        "for i in range(t):\n",
        "    a,b=map(int,input().split())\n",
        "    print(a%b)"
      ],
      "execution_count": 2,
      "outputs": [
        {
          "output_type": "stream",
          "text": [
            "3\n",
            "1 2\n",
            "1\n",
            "100 200\n",
            "100\n",
            "40 15\n",
            "10\n"
          ],
          "name": "stdout"
        }
      ]
    }
  ]
}