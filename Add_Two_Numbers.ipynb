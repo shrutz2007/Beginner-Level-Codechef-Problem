{
  "nbformat": 4,
  "nbformat_minor": 0,
  "metadata": {
    "colab": {
      "name": "Add Two Numbers.ipynb",
      "provenance": []
    },
    "kernelspec": {
      "name": "python3",
      "display_name": "Python 3"
    },
    "language_info": {
      "name": "python"
    }
  },
  "cells": [
    {
      "cell_type": "code",
      "metadata": {
        "id": "MhcpjFl27AGv",
        "colab": {
          "base_uri": "https://localhost:8080/"
        },
        "outputId": "8ddbb82c-2b05-4d5e-aac4-191c60fa7bfc"
      },
      "source": [
        "T = int(input())\n",
        "for tc in range(T):\n",
        "\t# Read integers a and b.\n",
        "\t(a, b) = map(int, input().split(' '))\n",
        "\t\n",
        "\tans = a + b\n",
        "\tprint(ans)1\n",
        "        "
      ],
      "execution_count": 3,
      "outputs": [
        {
          "output_type": "stream",
          "text": [
            "3\n",
            "1 2\n",
            "3\n",
            "200 100\n",
            "300\n",
            "10 40\n",
            "50\n"
          ],
          "name": "stdout"
        }
      ]
    }
  ]
}